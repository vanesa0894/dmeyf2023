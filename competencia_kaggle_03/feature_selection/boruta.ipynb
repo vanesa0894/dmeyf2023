{
 "cells": [
  {
   "cell_type": "code",
   "execution_count": 1,
   "metadata": {},
   "outputs": [],
   "source": [
    "#! pip install boruta"
   ]
  },
  {
   "cell_type": "code",
   "execution_count": 2,
   "metadata": {},
   "outputs": [],
   "source": [
    "# Cargo Librerías\n",
    "from sklearn.ensemble import RandomForestClassifier\n",
    "from boruta import BorutaPy\n",
    "import pandas as pd\n",
    "import numpy as np\n",
    "from sklearn.impute import SimpleImputer  \n",
    "\n",
    "# Levanto datos\n",
    "df = pd.read_csv(\"/buckets/b1/datasets/competencia_03.csv.gz\", compression='gzip')\n",
    "\n",
    "# Elimino meses con clase ternaria nula\n",
    "df = df[(df['foto_mes']!= 202108)]\n",
    "df = df[(df['foto_mes']!= 202109)]\n",
    "\n",
    "# Binarizo el target\n",
    "df['clase_ternaria'] = df['clase_ternaria'].isin(['BAJA+2']).astype(int)\n",
    "\n",
    "# Separo en X, y\n",
    "X = df.drop(columns=[\"clase_ternaria\"])\n",
    "y = df[[\"clase_ternaria\"]]\n",
    "\n",
    "# Imputo faltantes porque no me acepta NA el borutapy\n",
    "imputer = SimpleImputer(strategy='mean')\n",
    "X_imputed = pd.DataFrame(imputer.fit_transform(X), columns=X.columns)\n",
    " \n",
    "# Defino parámetros del modelo\n",
    "rf_param = {\n",
    "    'n_estimators': 500,  \n",
    "    'min_samples_split': 250,\n",
    "    'min_samples_leaf': 100,\n",
    "    'max_depth': 14,\n",
    "    'max_features': 'auto', \n",
    "    'random_state': 880001 \n",
    "}\n",
    "\n",
    "# Creo el modelo RF\n",
    "rf = RandomForestClassifier(**rf_param)\n",
    "\n",
    "# Instancio el Borutapy\n",
    "feat_selector = BorutaPy(\n",
    "    verbose=2,\n",
    "    estimator=rf,\n",
    "    n_estimators='auto',\n",
    "    max_iter=153\n",
    ")\n",
    "\n",
    "# Entreno Boruta\n",
    "feat_selector.fit(X_imputed.values, y.values.ravel())\n",
    "\n",
    "columnas_seleccionadas = X.columns[feat_selector.support_]\n",
    "print(columnas_seleccionadas)"
   ]
  }
 ],
 "metadata": {
  "kernelspec": {
   "display_name": "Python 3",
   "language": "python",
   "name": "python3"
  },
  "language_info": {
   "codemirror_mode": {
    "name": "ipython",
    "version": 3
   },
   "file_extension": ".py",
   "mimetype": "text/x-python",
   "name": "python",
   "nbconvert_exporter": "python",
   "pygments_lexer": "ipython3",
   "version": "3.11.4"
  }
 },
 "nbformat": 4,
 "nbformat_minor": 2
}
